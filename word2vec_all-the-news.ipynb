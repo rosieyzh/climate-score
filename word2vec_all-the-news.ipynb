{
 "cells": [
  {
   "cell_type": "code",
   "execution_count": 1,
   "metadata": {},
   "outputs": [
    {
     "name": "stderr",
     "output_type": "stream",
     "text": [
      "[nltk_data] Downloading package stopwords to\n",
      "[nltk_data]     /Users/rosiezhao/nltk_data...\n",
      "[nltk_data]   Package stopwords is already up-to-date!\n"
     ]
    },
    {
     "data": {
      "text/plain": [
       "True"
      ]
     },
     "execution_count": 1,
     "metadata": {},
     "output_type": "execute_result"
    }
   ],
   "source": [
    "import numpy as np\n",
    "import pandas as pd\n",
    "import gensim\n",
    "import nltk\n",
    "nltk.download('stopwords')"
   ]
  },
  {
   "cell_type": "code",
   "execution_count": 3,
   "metadata": {},
   "outputs": [
    {
     "data": {
      "text/html": [
       "<div>\n",
       "<style scoped>\n",
       "    .dataframe tbody tr th:only-of-type {\n",
       "        vertical-align: middle;\n",
       "    }\n",
       "\n",
       "    .dataframe tbody tr th {\n",
       "        vertical-align: top;\n",
       "    }\n",
       "\n",
       "    .dataframe thead th {\n",
       "        text-align: right;\n",
       "    }\n",
       "</style>\n",
       "<table border=\"1\" class=\"dataframe\">\n",
       "  <thead>\n",
       "    <tr style=\"text-align: right;\">\n",
       "      <th></th>\n",
       "      <th>id</th>\n",
       "      <th>title</th>\n",
       "      <th>author</th>\n",
       "      <th>date</th>\n",
       "      <th>content</th>\n",
       "      <th>year</th>\n",
       "      <th>month</th>\n",
       "      <th>publication</th>\n",
       "      <th>category</th>\n",
       "      <th>digital</th>\n",
       "      <th>section</th>\n",
       "      <th>url</th>\n",
       "    </tr>\n",
       "  </thead>\n",
       "  <tbody>\n",
       "    <tr>\n",
       "      <th>0</th>\n",
       "      <td>1</td>\n",
       "      <td>Agent Cooper in Twin Peaks is the audience: on...</td>\n",
       "      <td>\\nTasha Robinson\\n</td>\n",
       "      <td>2017-05-31</td>\n",
       "      <td>And never more so than in Showtime’s new...</td>\n",
       "      <td>2017.0</td>\n",
       "      <td>5.0</td>\n",
       "      <td>Verge</td>\n",
       "      <td>Longform</td>\n",
       "      <td>1.0</td>\n",
       "      <td>NaN</td>\n",
       "      <td>NaN</td>\n",
       "    </tr>\n",
       "    <tr>\n",
       "      <th>1</th>\n",
       "      <td>2</td>\n",
       "      <td>AI, the humanity!</td>\n",
       "      <td>\\nSam Byford\\n</td>\n",
       "      <td>2017-05-30</td>\n",
       "      <td>AlphaGo’s victory isn’t a defeat for hum...</td>\n",
       "      <td>2017.0</td>\n",
       "      <td>5.0</td>\n",
       "      <td>Verge</td>\n",
       "      <td>Longform</td>\n",
       "      <td>1.0</td>\n",
       "      <td>NaN</td>\n",
       "      <td>NaN</td>\n",
       "    </tr>\n",
       "    <tr>\n",
       "      <th>2</th>\n",
       "      <td>3</td>\n",
       "      <td>The Viral Machine</td>\n",
       "      <td>\\nKaitlyn Tiffany\\n</td>\n",
       "      <td>2017-05-25</td>\n",
       "      <td>Super Deluxe built a weird internet empi...</td>\n",
       "      <td>2017.0</td>\n",
       "      <td>5.0</td>\n",
       "      <td>Verge</td>\n",
       "      <td>Longform</td>\n",
       "      <td>1.0</td>\n",
       "      <td>NaN</td>\n",
       "      <td>NaN</td>\n",
       "    </tr>\n",
       "    <tr>\n",
       "      <th>3</th>\n",
       "      <td>4</td>\n",
       "      <td>How Anker is beating Apple and Samsung at thei...</td>\n",
       "      <td>\\nNick Statt\\n</td>\n",
       "      <td>2017-05-22</td>\n",
       "      <td>Steven Yang quit his job at Google in th...</td>\n",
       "      <td>2017.0</td>\n",
       "      <td>5.0</td>\n",
       "      <td>Verge</td>\n",
       "      <td>Longform</td>\n",
       "      <td>1.0</td>\n",
       "      <td>NaN</td>\n",
       "      <td>NaN</td>\n",
       "    </tr>\n",
       "    <tr>\n",
       "      <th>4</th>\n",
       "      <td>5</td>\n",
       "      <td>Tour Black Panther’s reimagined homeland with ...</td>\n",
       "      <td>\\nKwame Opam\\n</td>\n",
       "      <td>2017-05-15</td>\n",
       "      <td>Ahead of Black Panther’s 2018 theatrical...</td>\n",
       "      <td>2017.0</td>\n",
       "      <td>5.0</td>\n",
       "      <td>Verge</td>\n",
       "      <td>Longform</td>\n",
       "      <td>1.0</td>\n",
       "      <td>NaN</td>\n",
       "      <td>NaN</td>\n",
       "    </tr>\n",
       "    <tr>\n",
       "      <th>5</th>\n",
       "      <td>6</td>\n",
       "      <td>Instant recall</td>\n",
       "      <td>\\nCasey Newton\\n</td>\n",
       "      <td>2017-04-16</td>\n",
       "      <td>Facebook's Instant Articles promised to ...</td>\n",
       "      <td>2017.0</td>\n",
       "      <td>4.0</td>\n",
       "      <td>Verge</td>\n",
       "      <td>Longform</td>\n",
       "      <td>1.0</td>\n",
       "      <td>NaN</td>\n",
       "      <td>NaN</td>\n",
       "    </tr>\n",
       "    <tr>\n",
       "      <th>6</th>\n",
       "      <td>7</td>\n",
       "      <td>Massive attack</td>\n",
       "      <td>\\nColin Lecher\\n</td>\n",
       "      <td>2017-04-14</td>\n",
       "      <td>How a weapon against war became a weapon...</td>\n",
       "      <td>2017.0</td>\n",
       "      <td>4.0</td>\n",
       "      <td>Verge</td>\n",
       "      <td>Longform</td>\n",
       "      <td>1.0</td>\n",
       "      <td>NaN</td>\n",
       "      <td>NaN</td>\n",
       "    </tr>\n",
       "    <tr>\n",
       "      <th>7</th>\n",
       "      <td>8</td>\n",
       "      <td>The Future Agency</td>\n",
       "      <td>\\nKyle Chayka\\n</td>\n",
       "      <td>2017-03-30</td>\n",
       "      <td>Inside the big business of imagining the...</td>\n",
       "      <td>2017.0</td>\n",
       "      <td>3.0</td>\n",
       "      <td>Verge</td>\n",
       "      <td>Longform</td>\n",
       "      <td>1.0</td>\n",
       "      <td>NaN</td>\n",
       "      <td>NaN</td>\n",
       "    </tr>\n",
       "    <tr>\n",
       "      <th>8</th>\n",
       "      <td>9</td>\n",
       "      <td>Flight Risk</td>\n",
       "      <td>\\nBen Popper\\n</td>\n",
       "      <td>2017-03-28</td>\n",
       "      <td>Legal threats and disgruntled clients: i...</td>\n",
       "      <td>2017.0</td>\n",
       "      <td>3.0</td>\n",
       "      <td>Verge</td>\n",
       "      <td>Longform</td>\n",
       "      <td>1.0</td>\n",
       "      <td>NaN</td>\n",
       "      <td>NaN</td>\n",
       "    </tr>\n",
       "    <tr>\n",
       "      <th>9</th>\n",
       "      <td>10</td>\n",
       "      <td>Brain drain</td>\n",
       "      <td>\\nCasey Newton\\n</td>\n",
       "      <td>2017-03-15</td>\n",
       "      <td>Genius quietly laid off a bunch of its e...</td>\n",
       "      <td>2017.0</td>\n",
       "      <td>3.0</td>\n",
       "      <td>Verge</td>\n",
       "      <td>Longform</td>\n",
       "      <td>1.0</td>\n",
       "      <td>NaN</td>\n",
       "      <td>NaN</td>\n",
       "    </tr>\n",
       "  </tbody>\n",
       "</table>\n",
       "</div>"
      ],
      "text/plain": [
       "   id                                              title               author  \\\n",
       "0   1  Agent Cooper in Twin Peaks is the audience: on...   \\nTasha Robinson\\n   \n",
       "1   2                                  AI, the humanity!       \\nSam Byford\\n   \n",
       "2   3                                  The Viral Machine  \\nKaitlyn Tiffany\\n   \n",
       "3   4  How Anker is beating Apple and Samsung at thei...       \\nNick Statt\\n   \n",
       "4   5  Tour Black Panther’s reimagined homeland with ...       \\nKwame Opam\\n   \n",
       "5   6                                     Instant recall     \\nCasey Newton\\n   \n",
       "6   7                                     Massive attack     \\nColin Lecher\\n   \n",
       "7   8                                  The Future Agency      \\nKyle Chayka\\n   \n",
       "8   9                                        Flight Risk       \\nBen Popper\\n   \n",
       "9  10                                        Brain drain     \\nCasey Newton\\n   \n",
       "\n",
       "         date                                            content    year  \\\n",
       "0  2017-05-31        And never more so than in Showtime’s new...  2017.0   \n",
       "1  2017-05-30        AlphaGo’s victory isn’t a defeat for hum...  2017.0   \n",
       "2  2017-05-25        Super Deluxe built a weird internet empi...  2017.0   \n",
       "3  2017-05-22        Steven Yang quit his job at Google in th...  2017.0   \n",
       "4  2017-05-15        Ahead of Black Panther’s 2018 theatrical...  2017.0   \n",
       "5  2017-04-16        Facebook's Instant Articles promised to ...  2017.0   \n",
       "6  2017-04-14        How a weapon against war became a weapon...  2017.0   \n",
       "7  2017-03-30        Inside the big business of imagining the...  2017.0   \n",
       "8  2017-03-28        Legal threats and disgruntled clients: i...  2017.0   \n",
       "9  2017-03-15        Genius quietly laid off a bunch of its e...  2017.0   \n",
       "\n",
       "   month publication  category  digital section  url  \n",
       "0    5.0       Verge  Longform      1.0     NaN  NaN  \n",
       "1    5.0       Verge  Longform      1.0     NaN  NaN  \n",
       "2    5.0       Verge  Longform      1.0     NaN  NaN  \n",
       "3    5.0       Verge  Longform      1.0     NaN  NaN  \n",
       "4    5.0       Verge  Longform      1.0     NaN  NaN  \n",
       "5    4.0       Verge  Longform      1.0     NaN  NaN  \n",
       "6    4.0       Verge  Longform      1.0     NaN  NaN  \n",
       "7    3.0       Verge  Longform      1.0     NaN  NaN  \n",
       "8    3.0       Verge  Longform      1.0     NaN  NaN  \n",
       "9    3.0       Verge  Longform      1.0     NaN  NaN  "
      ]
     },
     "execution_count": 3,
     "metadata": {},
     "output_type": "execute_result"
    }
   ],
   "source": [
    "file = pd.read_csv('./data.csv')\n",
    "file.head(10)"
   ]
  },
  {
   "cell_type": "code",
   "execution_count": 5,
   "metadata": {},
   "outputs": [],
   "source": [
    "articles = file['content']\n",
    "\n",
    "\n",
    "\n",
    "'''\n",
    "Pre-processing:\n",
    ">only retain words\n",
    ">convert to lowercase\n",
    ">remove stopwords\n",
    "'''\n",
    "articles = articles.str.replace('[^a-zA-Z]',' ').str.lower()\n",
    "stop_re = '\\\\b'+'\\\\b|\\\\b'.join(nltk.corpus.stopwords.words('english'))+'\\\\b'\n",
    "articles = articles.str.replace(stop_re, '')\n",
    "articles = articles.str.split()"
   ]
  },
  {
   "cell_type": "code",
   "execution_count": 8,
   "metadata": {},
   "outputs": [],
   "source": [
    "cleaned_articles = [x for x in articles if str(x) != 'nan']"
   ]
  },
  {
   "cell_type": "code",
   "execution_count": 13,
   "metadata": {},
   "outputs": [],
   "source": [
    "#Input articles through Phraser\n",
    "phrases = gensim.models.phrases.Phrases(cleaned_articles)\n",
    "phraser = gensim.models.phrases.Phraser(phrases)\n",
    "train_phrased = phraser[cleaned_articles]"
   ]
  },
  {
   "cell_type": "code",
   "execution_count": 14,
   "metadata": {},
   "outputs": [
    {
     "name": "stdout",
     "output_type": "stream",
     "text": [
      "Word2Vec Model finished training\n"
     ]
    },
    {
     "name": "stderr",
     "output_type": "stream",
     "text": [
      "/Users/rosiezhao/anaconda3/lib/python3.7/site-packages/smart_open/smart_open_lib.py:398: UserWarning: This function is deprecated, use smart_open.open instead. See the migration notes for details: https://github.com/RaRe-Technologies/smart_open/blob/master/README.rst#migrating-to-the-new-open-function\n",
      "  'See the migration notes for details: %s' % _MIGRATION_NOTES_URL\n"
     ]
    }
   ],
   "source": [
    "#Create Word2Vec Model\n",
    "w2v = gensim.models.word2vec.Word2Vec(sentences=train_phrased,workers=32)\n",
    "print(\"Word2Vec Model finished training\")\n",
    "\n",
    "w2v.save('w2v_all-the-news')"
   ]
  },
  {
   "cell_type": "code",
   "execution_count": 41,
   "metadata": {},
   "outputs": [
    {
     "data": {
      "text/plain": [
       "[('wildfires', 0.9039282202720642),\n",
       " ('blazes', 0.8697661757469177),\n",
       " ('floods', 0.830560564994812),\n",
       " ('mudslides', 0.8227199912071228),\n",
       " ('heavy_rains', 0.8194685578346252),\n",
       " ('floodwaters', 0.8102580904960632),\n",
       " ('severe_weather', 0.8025417327880859),\n",
       " ('torrential_rains', 0.8019133806228638),\n",
       " ('heavy_rain', 0.8009653091430664),\n",
       " ('tornado', 0.7995668649673462)]"
      ]
     },
     "execution_count": 41,
     "metadata": {},
     "output_type": "execute_result"
    }
   ],
   "source": [
    "w2v.wv.most_similar('wildfire')"
   ]
  },
  {
   "cell_type": "code",
   "execution_count": 40,
   "metadata": {},
   "outputs": [
    {
     "data": {
      "text/plain": [
       "[('flooding', 0.7642062902450562),\n",
       " ('deluge', 0.7069231867790222),\n",
       " ('floods', 0.689592719078064),\n",
       " ('flooded', 0.683785617351532),\n",
       " ('avalanche', 0.6525532007217407),\n",
       " ('tsunami', 0.6439600586891174),\n",
       " ('power_outages', 0.6375871896743774),\n",
       " ('mudslides', 0.6371573209762573),\n",
       " ('hurricane_harvey', 0.6213381290435791),\n",
       " ('storm', 0.610153079032898)]"
      ]
     },
     "execution_count": 40,
     "metadata": {},
     "output_type": "execute_result"
    }
   ],
   "source": [
    "w2v.wv.most_similar('flood')"
   ]
  },
  {
   "cell_type": "code",
   "execution_count": 38,
   "metadata": {},
   "outputs": [
    {
     "data": {
      "text/plain": [
       "0.43592682"
      ]
     },
     "execution_count": 38,
     "metadata": {},
     "output_type": "execute_result"
    }
   ],
   "source": [
    "w2v.wv.similarity('fire', 'flood')"
   ]
  },
  {
   "cell_type": "code",
   "execution_count": null,
   "metadata": {},
   "outputs": [],
   "source": []
  },
  {
   "cell_type": "code",
   "execution_count": null,
   "metadata": {},
   "outputs": [],
   "source": [
    "#Methods to calculate tf-idf scores\n",
    "def word_count(text):\n",
    "    '''\n",
    "    Input:\n",
    "    text - list object of tokenized strings\n",
    "    '''\n",
    "    return len(text)\n",
    "\n",
    "def freq_count(articles):\n",
    "    '''\n",
    "    Input:\n",
    "    articles - list of list of tokenized words\n",
    "    Output:\n",
    "    freq_dict_list - list of dictionary containing frequencies of each word in text\n",
    "    '''\n",
    "    freq_dict_list = []\n",
    "    doc_id=0\n",
    "    for text in articles:\n",
    "        doc_id+=1\n",
    "        freq_dict = {}\n",
    "        for word in text:\n",
    "            if word in freq_dict:\n",
    "                freq_dict[word] += 1\n",
    "            else:\n",
    "                freq_dict[word] = 1\n",
    "        doc_temp = {'id' : doc_id, 'freq_dict' : freq_dict }\n",
    "        freq_dict_list.append(doc_temp)\n",
    "    \n",
    "    return freq_dict_list\n",
    "    "
   ]
  }
 ],
 "metadata": {
  "kernelspec": {
   "display_name": "python3",
   "language": "python",
   "name": "python3"
  },
  "language_info": {
   "codemirror_mode": {
    "name": "ipython",
    "version": 3
   },
   "file_extension": ".py",
   "mimetype": "text/x-python",
   "name": "python",
   "nbconvert_exporter": "python",
   "pygments_lexer": "ipython3",
   "version": "3.7.3"
  }
 },
 "nbformat": 4,
 "nbformat_minor": 2
}
